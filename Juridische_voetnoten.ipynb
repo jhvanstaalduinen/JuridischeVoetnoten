{
  "nbformat": 4,
  "nbformat_minor": 0,
  "metadata": {
    "kernelspec": {
      "display_name": "Python 3",
      "language": "python",
      "name": "python3"
    },
    "language_info": {
      "codemirror_mode": {
        "name": "ipython",
        "version": 3
      },
      "file_extension": ".py",
      "mimetype": "text/x-python",
      "name": "python",
      "nbconvert_exporter": "python",
      "pygments_lexer": "ipython3",
      "version": "3.8.3"
    },
    "colab": {
      "name": "Juridische voetnoten.ipynb",
      "provenance": [],
      "collapsed_sections": []
    }
  },
  "cells": [
    {
      "cell_type": "markdown",
      "metadata": {
        "id": "zZO6SqL3-Yqs"
      },
      "source": [
        "<h1>Auto-completion voor juridische voetnoten</h1>\n",
        "\n",
        "<b>Doel:</b> op basis van alleen ECLI een volledige en juist gestileerde juridische voetnoot teruggeven. Op dit moment ondersteund: HR + hoven en rechtbanken in Nederland en andere zoals CBB, EHRM, HvJ EU. Indien bekend wordt de vindplaats in de volgende tijdschriften meegenomen in de voetnoot:\n",
        "\n",
        "      NJ, NJB, TvA, TvC, JOR, JOM, JM, AR, JONDR, JA, NJF\n",
        "\n",
        "<i>NB: mist nog schuingedrukte zaakaanduiding tussen '(' en ')', maar wellicht sowieso handig om die zelf te onthouden bij een ECLI om te weten waar de uitspraak over gaat.</i>\n",
        "\n",
        "<i>NB2: perfectie niet gegarandeerd.</i>\n",
        "\n",
        "Usecase voor toekomst: van NJ naar ECLI (in de Asser wordt vaak alleen een NJ-nummer gegeven)\n"
      ]
    },
    {
      "cell_type": "markdown",
      "metadata": {
        "id": "j_f1o3QGAgYc"
      },
      "source": [
        "<h1>Import packages</h1>"
      ]
    },
    {
      "cell_type": "code",
      "metadata": {
        "id": "ShPw8lPJ-Yq0"
      },
      "source": [
        "\n",
        "import urllib3\n",
        "import xmltodict\n",
        "import locale\n",
        "import time\n",
        "from datetime import datetime\n",
        "locale.setlocale(locale.LC_ALL, 'nl_NL')\n",
        "import re\n",
        "\n",
        "import pandas as pd\n",
        "import numpy as np\n",
        "\n",
        "\n",
        "# Works only in jupyter notebook:\n",
        "from IPython.core.display import display, HTML\n"
      ],
      "execution_count": null,
      "outputs": []
    },
    {
      "cell_type": "markdown",
      "metadata": {
        "id": "NVuJG3Zo_Hpx"
      },
      "source": [
        "<h1>Function definitions</h1>"
      ]
    },
    {
      "cell_type": "code",
      "metadata": {
        "id": "RpFn_xIc-Yq1"
      },
      "source": [
        "replace_list = {'Hoge Raad':'HR', \n",
        "                'met annotatie van':'m.nt.',\n",
        "                'Gerechtshof':'Hof',\n",
        "                'College van Beroep voor het bedrijfsleven':'CBb',\n",
        "                r'([0-9]{1}) m.nt.':r'\\1, m.nt.',\n",
        "                r'<i>NJ</i> ([0-9]{4}), ([0-9]+),':r'<i>NJ</i> \\1/\\2,',\n",
        "                'And':'&',\n",
        "                'Rechtbank':'Rb',\n",
        "                'Raad van State':'ABRvS'\n",
        "               }\n",
        "\n",
        "\n",
        "month_to_num = {'Jan':'01','Feb':'02','Mar':'03','Apr':'04','May':'05','Jun':'06',\n",
        "                'Jul':'07','Aug':'08','Sep':'09','Oct':'10','Nov':'11','Dec':'12'}\n",
        "\n",
        "\n",
        "journal_abbeviations = ['NJ', 'NJB','TvA','TvC', 'JOR','JOM','JM','AR','JONDR','JA','NJF']\n",
        "\n",
        "# FIXME: when do I want to load this?\n",
        "echr_data = pd.read_csv('data/echr_2_0_0_structured_cases.csv')\n",
        "\n",
        "def ecli_lookup(ecli,italicize_journals=True, preferred_journal='NJ'):\n",
        "    # Remove whitespace\n",
        "    ecli = \"\".join(ecli.split())\n",
        "    \n",
        "    # Split into elements\n",
        "    \n",
        "    ecli_elts = ecli.split(':')\n",
        "    country_code = ecli_elts[1]\n",
        "    court_code = ecli_elts[2]\n",
        "    year = ecli_elts[3]\n",
        "    case_code = ecli_elts[4]\n",
        "    \n",
        "    # Nederlandse rechtspraak (HR, Hoven, Rechtbanken)\n",
        "    if (country_code == 'NL'):\n",
        "        \n",
        "        voetnoot = get_NL(ecli, preferred_journal)\n",
        "   \n",
        "    # Council of Europe (Raad van Europa, EHRM)\n",
        "    if (country_code == 'CE'):\n",
        "        voetnoot = get_CE(ecli)\n",
        "        \n",
        "    # European Union (HvJ EU)\n",
        "    if (country_code == 'EU'):\n",
        "        voetnoot = get_EU(ecli)\n",
        "       \n",
        "    # Replace some words you want replaced\n",
        "    for van,naar in replace_list.items():\n",
        "        voetnoot = re.sub(van, naar, voetnoot)\n",
        "\n",
        "    if (italicize_journals):\n",
        "        for journal_abbr in journal_abbeviations:\n",
        "            voetnoot = voetnoot.replace(journal_abbr,'<i>'+journal_abbr+'</i>')\n",
        "\n",
        "    return voetnoot\n",
        "\n",
        "def get_CE(ecli):\n",
        "    url_pre = 'https://hudoc.echr.coe.int/app/transform/rss?library=echreng&query=contentsitename:ECHR%20AND%20(NOT%20(doctype=PR%20OR%20doctype=HFCOMOLD%20OR%20doctype=HECOMOLD))%20AND%20((ecli:%22'\n",
        "    url_post = '%22))&sort=&start=0&length=20&rankingModelId=11111111-0000-0000-0000-000000000000'\n",
        "    url = url_pre + ecli + url_post\n",
        "    print(url)\n",
        "    http = urllib3.PoolManager()\n",
        "    r = http.request('GET', url)\n",
        "    data = r.data   \n",
        "    data_xml = xmltodict.parse(data)\n",
        "    list_of_results = data_xml['rss']['channel']['item']\n",
        "    \n",
        "    if (type(list_of_results)!=list):\n",
        "        list_of_results = [list_of_results] # In this case, there is only 1 search result. Make it into a list.\n",
        "\n",
        "    for item in list_of_results:\n",
        "\n",
        "        court = 'EHRM'\n",
        "\n",
        "        # Example case no: 40575/10;67474/10 - Chamber Judgment\n",
        "        case_no = 'no. ' + item['description'].split(' - ')[0].replace(';',' en ')\n",
        "\n",
        "        case_date = item['pubDate'] # Sample case date: Tue, 02 Oct 2018 00:00:00 GMT\n",
        "        case_date = case_date.split(', ')[1] # Remove day of week\n",
        "        case_date = \"/\".join([case_date.split(' ')[0], month_to_num[case_date.split(' ')[1]], case_date.split(' ')[2]])\n",
        "        case_date = datetime.strptime(case_date, '%d/%m/%Y')\n",
        "        case_date = case_date.strftime('%d %B %Y')\n",
        "        case_date = \" \".join([case_date.split(' ')[0].replace('0',''),case_date.split(' ')[1],case_date.split(' ')[2]])\n",
        "\n",
        "        case_name = item['title']\n",
        "        case_name = case_name.title()\n",
        "        case_name = case_name.replace('V.','v.')\n",
        "        case_name = case_name.replace('Case Of ','')\n",
        "        case_name = '(<i>'+case_name+'</i>)'\n",
        "\n",
        "\n",
        "        break  # TODO: possibly, use other search results as well?\n",
        "\n",
        "    #voetnoot = \", \".join([court+' '+case_date, case_no, ecli + ' ' + case_name]) # Apparently no case no.?\n",
        "    voetnoot = \", \".join([court+' '+case_date, ecli + ' ' + case_name])\n",
        "    \n",
        "    return voetnoot\n",
        "\n",
        "\n",
        "def get_EU(ecli):\n",
        "    url_pre = 'http://curia.europa.eu/juris/documents.jsf?&critereEcli='\n",
        "    url_post ='&lgrec=nl&language=nl'\n",
        "    url = url_pre + ecli + url_post\n",
        "    print(url)\n",
        "\n",
        "    http = urllib3.PoolManager()\n",
        "    r = http.request('GET', url)\n",
        "    data = r.data   \n",
        "    case_name = re.findall(r'<td class=\"table_cell_nom_usuel\">([^\\<]+)</td>',str(data))[0] # Possible: take 1 of the results\n",
        "    case_name = case_name.strip()\n",
        "    case_name = case_name.title()\n",
        "    case_name = case_name.replace('V.','v.')\n",
        "    case_name = case_name.replace('Case Of ','')\n",
        "    case_name = '(<i>'+case_name+'</i>)'\n",
        "\n",
        "    case_no = re.findall(r'<td class=\"table_cell_aff\">([^\\<]+)</td>',str(data))[0]\n",
        "    case_date = re.findall(r'<td class=\"table_cell_date\">([^\\<]+)</td>',str(data))[0]\n",
        "    court = 'HvJ EU'\n",
        "\n",
        "    case_date = datetime.strptime(case_date, '%d/%m/%Y')\n",
        "    case_date = case_date.strftime('%d %B %Y')\n",
        "    case_date = \" \".join([case_date.split(' ')[0].replace('0',''),case_date.split(' ')[1],case_date.split(' ')[2]])\n",
        "\n",
        "    voetnoot = \", \".join([court+' '+case_date, case_no, ecli + ' ' + case_name])\n",
        "    \n",
        "    return voetnoot\n",
        "\n",
        "def get_NL(ecli, preferred_journal='NJ'):\n",
        "\n",
        "    url = 'https://data.rechtspraak.nl/uitspraken/content?id='+ecli+'&return=META'\n",
        "    print(url)\n",
        "    http = urllib3.PoolManager()\n",
        "    r = http.request('GET', url)\n",
        "    data = r.data\n",
        "    data = xmltodict.parse(data)\n",
        "    \n",
        "    ecli_elts = ecli.split(':')\n",
        "    country_code = ecli_elts[1]\n",
        "    court_code = ecli_elts[2]\n",
        "    \n",
        "    if (court_code == 'PHR'):\n",
        "        print(\"Pas op: conclusies van de A-G worden nog niet ondersteund.\")\n",
        "\n",
        "    description_dict = data['open-rechtspraak']['rdf:RDF']['rdf:Description'][0]\n",
        "    case_date = description_dict['dcterms:date']['#text']\n",
        "    case_date = datetime.strptime(case_date, '%Y-%m-%d')\n",
        "    case_date = case_date.strftime('%d %B %Y')\n",
        "    case_date = \" \".join([case_date.split(' ')[0].replace('0',''),case_date.split(' ')[1],case_date.split(' ')[2]])\n",
        "    court = description_dict['dcterms:creator']['#text']\n",
        "\n",
        "    vindplaatsen = list(description_dict['dcterms:hasVersion']['rdf:list'].values())\n",
        "    if (type(vindplaatsen[0])==list):\n",
        "        vindplaatsen = vindplaatsen[0] # Sometimes it is a list, while in this case there is only 1 value\n",
        "    vindplaatsen.remove('Rechtspraak.nl') # Deze is niet zo interessant.\n",
        "    \n",
        "    if (len(vindplaatsen)>0):\n",
        "        tmplist = [s.split(' ')[0] for s in vindplaatsen]\n",
        "        if (preferred_journal in tmplist):\n",
        "            vindplaatsen_nr = tmplist.index(preferred_journal)\n",
        "        else:\n",
        "            vindplaatsen_nr = -1  # FIXME: laat de gebruiker kiezen tussen vindplaatsen\n",
        "        vindplaats = vindplaatsen[vindplaatsen_nr]\n",
        "        \n",
        "        # Maak journal schuingedrukt\n",
        "        if (len(vindplaats.split(' '))>1):\n",
        "            vindplaats = '<i>'+vindplaats.split(' ')[0]+'</i>'+' '+' '.join((np.array(vindplaats.split(' ')[1:]).flatten()))\n",
        "    \n",
        "    #### COMBINE INTO VOETNOOT\n",
        "\n",
        "    if (len(vindplaatsen)>0):\n",
        "        voetnoot = \", \".join([court+' '+case_date,ecli,vindplaats])\n",
        "    else:\n",
        "        voetnoot = \", \".join([court+' '+case_date,ecli])\n",
        "\n",
        "    return voetnoot"
      ],
      "execution_count": null,
      "outputs": []
    },
    {
      "cell_type": "markdown",
      "metadata": {
        "id": "ZJKREvKE_ECH"
      },
      "source": [
        "<h1>Apply to input</h1>"
      ]
    },
    {
      "cell_type": "code",
      "metadata": {
        "id": "0p_E6Epo-Yq3",
        "outputId": "d039a877-1de3-4790-864f-7e0fb6532efc"
      },
      "source": [
        "# Test-ECLIs\n",
        "ecli = 'ECLI:CE:ECHR:2018: 1002JUD004057510'\n",
        "ecli = 'ECLI:CE:ECHR:2006:0427JUD002794602' # This one has a date\n",
        "ecli = 'ECLI:CE:ECHR:2005:1213JUD004359302' # this one has a date\n",
        "#ecli = 'ECLI:NL:GHAMS:2020:802'\n",
        "ecli = 'ECLI:NL:HR:2018:1800'\n",
        "ecli = 'ECLI:NL:CBB:2020:801'\n",
        "ecli = 'ECLI:EU:C:2015:772' # Tarcau\n",
        "ecli = 'ECLI:EU:C:2016:700' # Dumitras\n",
        "#ecli = 'ECLI:EU:C:2018:37' # Schrems\n",
        "ecli = 'ECLI:EU:C:2018:320'\n",
        "ecli = 'ECLI:CE:ECHR:2005:0726JUD007331601'\n",
        "ecli = 'ECLI:CE:ECHR:2018: 1002JUD004057510'\n",
        "ecli = 'ECLI:CE:ECHR:1992:0225JUD001080284' # Pfeifer en Plankl\n",
        "ecli = 'ECLI:CE:ECHR:1999:0223DEC003173796' # Finse vent\n",
        "'''ecli = 'ECLI:NL:RBAMS:2018:8299' \n",
        "ecli = 'ECLI:NL:RVS:2013:248'\n",
        "ecli = 'ECLI:NL:RVS:2009:BH0479'\n",
        "ecli = 'ECLI:NL:GHAMS:2015:2618'\n",
        "ecli = 'ECLI:NL:HR:1965:AB7079' # Kelderluik\n",
        "#ecli = 'ECLI:NL:RBMNE:2015:9661'\n",
        "#ecli = 'ECLI:NL:RBZWB:2019:2849'\n",
        "#ecli = 'ECLI:NL:GHAMS:2015:2043' # Test met NTHR\n",
        "#ecli = 'ECLI:EU:C:2019:825' # Petrichova\n",
        "#ecli = 'ECLI:NL:PHR:2018:788' # conclusie\n",
        "'''\n",
        "ecli = 'ECLI:EU:C:2016:700' # Dumitras\n",
        "ecli = 'ECLI:NL:HR:2015:2463' \n",
        "ecli = 'ECLI:NL:HR:2019:268' # HBL/X\n",
        "ecli = 'ECLI:NL:PHR:2018:1378'\n",
        "ecli = 'ECLI:NL:HR:1994:ZC1488'\n",
        "ecli = 'ECLI:NL:HR:2007:BA2511'\n",
        "ecli = 'ECLI:NL:HR:2009:BJ0861' # Abn amro/hamm\n",
        "ecli = 'ECLI:NL:HR:2019:1841' # X/Heijmans\n",
        "ecli = 'ECLI:NL:HR:2012:BT6947' # \n",
        "ecli = 'ECLI:NL:HR:2019:268' # HBL/X\n",
        "ecli = 'ECLI:NL:HR:2019:1841' # X/Heijmans\n",
        "ecli = 'ECLI:NL:HR:2002:AE7842' \n",
        "ecli = 'ECLI:NL:HR:2009:BJ0861'\n",
        "\n",
        "# TODO: ook roepnaam van het arrest bijvoegen\n",
        "\n",
        "print('Input:',ecli,'\\n')\n",
        "result = ecli_lookup(ecli)\n",
        "print('\\n')\n",
        "display(HTML(result))"
      ],
      "execution_count": null,
      "outputs": [
        {
          "output_type": "stream",
          "text": [
            "Input: ECLI:NL:HR:2009:BJ0861 \n",
            "\n",
            "https://data.rechtspraak.nl/uitspraken/content?id=ECLI:NL:HR:2009:BJ0861&return=META\n",
            "\n",
            "\n"
          ],
          "name": "stdout"
        },
        {
          "output_type": "display_data",
          "data": {
            "text/html": [
              "HR 3 oktober 2009, ECLI:NL:HR:2009:BJ0861, <i><i>NJ</i></i> 2010/96, m.nt. F.M.J. Verstijlen"
            ],
            "text/plain": [
              "<IPython.core.display.HTML object>"
            ]
          },
          "metadata": {
            "tags": []
          }
        }
      ]
    },
    {
      "cell_type": "code",
      "metadata": {
        "id": "jXDN8wtn-Yq5"
      },
      "source": [
        ""
      ],
      "execution_count": null,
      "outputs": []
    }
  ]
}